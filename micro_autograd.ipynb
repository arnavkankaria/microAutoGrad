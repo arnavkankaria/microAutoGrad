{
 "cells": [
  {
   "cell_type": "code",
   "execution_count": 60,
   "id": "2fc3de40-8377-404f-8cfa-946c184ab8cf",
   "metadata": {},
   "outputs": [],
   "source": [
    "import math\n",
    "import numpy as np\n",
    "import matplotlib.pyplot as plt\n",
    "%matplotlib inline"
   ]
  },
  {
   "cell_type": "code",
   "execution_count": 61,
   "id": "4eb175b0-5968-4650-9731-749521d6e5b6",
   "metadata": {},
   "outputs": [],
   "source": [
    "class Value:\n",
    "\n",
    "    def __init__(self, data, _children = (), _op = '', _label = ''):\n",
    "        self.data = data #Value \n",
    "        self._prev = set(_children) #Set of children\n",
    "        self.grad = 0 #Gradient \n",
    "        self._backward = lambda: None #Backward func initialized to none\n",
    "        self._op = _op #Operation used to get node\n",
    "        self._label = _label #label/name\n",
    "\n",
    "    def __repr__(self): \n",
    "        return f\"Value(data={self.data})\"\n",
    "\n",
    "    def __add__(self, other): #Add function used simply by + operator\n",
    "        other = other if isinstance(other, Value) else Value(other) #If adding by a non Value object (eg number)\n",
    "        out = Value(self.data + other.data, (self, other), '+') #Create new val\n",
    "        def _backward():\n",
    "            self.grad += 1.0 * out.grad \n",
    "            other.grad += 1.0 * out.grad\n",
    "        out._backward = _backward\n",
    "        return out\n",
    "\n",
    "    def __mul__(self, other): #Multiply func used by typing * operator\n",
    "        other = other if isinstance(other, Value) else Value(other) #If multyplying by a non Value object (eg number)\n",
    "        out = Value(self.data * other.data, (self, other), '*')\n",
    "\n",
    "        def _backward():\n",
    "            self.grad += other.data * out.grad\n",
    "            other.grad += self.data * out.grad\n",
    "        out._backward = _backward\n",
    "        return out\n",
    "    \n",
    "    def __pow__(self, other):\n",
    "        assert isinstance(other, (int, float)), \"only supporting int/float powers\"\n",
    "        out = Value(self.data**other, (self,), f'**{other}')\n",
    "\n",
    "        def _backward():\n",
    "            self.grad += (other * self.data**(other-1)) * out.grad #Power rule: d/dx x^n = n*x^n-1\n",
    "        out._backward = _backward\n",
    "\n",
    "        return out\n",
    "    \n",
    "    def tanh (self): #tanh function\n",
    "        x = self.data\n",
    "        t = (math.exp (2*x)- 1) / (math.exp(2*x) + 1)\n",
    "        out = Value(t, (self, ), 'tanh')\n",
    "\n",
    "        def _backward():\n",
    "            self.grad += (1 - t**2) * out.grad\n",
    "        out._backward = _backward\n",
    "        return out\n",
    "\n",
    "    def backward(self):\n",
    "\n",
    "        #Topological Sort:\n",
    "        topo = []\n",
    "        visited = set()\n",
    "        def build_topo(v):\n",
    "            if v not in visited:\n",
    "                visited.add(v)\n",
    "                for child in v._prev:\n",
    "                    build_topo(child)\n",
    "                topo.append(v)\n",
    "        build_topo(self)\n",
    "\n",
    "        #Do backprop in reversed topological order\n",
    "        self.grad = 1.0\n",
    "        for node in reversed (topo):\n",
    "            node._backward()\n",
    "    \n",
    "    #All functions with r (like __radd__) are reverse functions. \n",
    "    #Adding int + Value will give an error since __add__ expects the first param to be a Value\n",
    "    #Python checks second param to see if it's add func can handle this hence radd will be used\n",
    "\n",
    "    def __neg__(self): # -self\n",
    "        return self * -1\n",
    "\n",
    "    def __radd__(self, other): # other + self\n",
    "        return self + other\n",
    "\n",
    "    def __sub__(self, other): # self - other\n",
    "        return self + (-other)\n",
    "\n",
    "    def __rsub__(self, other): # other - self\n",
    "        return other + (-self)\n",
    "\n",
    "    def __rmul__(self, other): # other * self\n",
    "        return self * other\n",
    "\n",
    "    def __truediv__(self, other): # self / other\n",
    "        return self * other**-1\n",
    "\n",
    "    def __rtruediv__(self, other): # other / self\n",
    "        return other * self**-1   "
   ]
  },
  {
   "cell_type": "code",
   "execution_count": 62,
   "id": "dfb165e3-9a00-48ea-866e-59aea7dbb01e",
   "metadata": {},
   "outputs": [
    {
     "name": "stdout",
     "output_type": "stream",
     "text": [
      "0.7071067811865476\n",
      "___\n",
      "x2 0.49999999999999994\n",
      "w2 0.0\n",
      "x1 -1.4999999999999998\n",
      "w1 0.9999999999999999\n"
     ]
    }
   ],
   "source": [
    "#Using pytorch\n",
    "import torch\n",
    "\n",
    "#Create tensors - by default requires_grad is set to False for leaf nodes (as usually input nodes are data and dont change)\n",
    "x1 = torch.tensor([2.0], dtype=torch.double, requires_grad=True)\n",
    "x2 = torch.tensor([0.0], dtype=torch.double, requires_grad=True)\n",
    "w1 = torch.tensor([-3.0], dtype=torch.double, requires_grad=True)\n",
    "w2 = torch.tensor([1.0], dtype=torch.double, requires_grad=True)\n",
    "b  = torch.tensor([6.8813735870195432], dtype=torch.double, requires_grad=True)\n",
    "\n",
    "n = x1 * w1 + x2 * w2 + b\n",
    "o = torch.tanh(n)\n",
    "\n",
    "#Prints number without tensor\n",
    "print(o.item())\n",
    "#Backprop\n",
    "o.backward()\n",
    "\n",
    "print('___')\n",
    "print('x2', x2.grad.item())\n",
    "print('w2', w2.grad.item())\n",
    "print('x1', x1.grad.item())\n",
    "print('w1', w1.grad.item())\n"
   ]
  },
  {
   "cell_type": "code",
   "execution_count": 63,
   "id": "2726483a",
   "metadata": {},
   "outputs": [],
   "source": [
    "import random\n",
    "\n",
    "class Neuron:\n",
    "\n",
    "    def __init__ (self, numInputs):\n",
    "        self.w = [Value(random.uniform(-1, 1)) for _ in range (numInputs)] #Weights coming into the neuron\n",
    "        self.b = Value(random.uniform(-1, 1))\n",
    "    \n",
    "    def __call__(self, x): #Call function is like using a variable n of type neuron and x of type array. So when you do n(x), it does n.__call__(x)\n",
    "        # w dot product x + b\n",
    "        #Forward pass:\n",
    "        act = sum((wi * xi for wi, xi in zip (self.w, x)), start=self.b)  #zip pairs up w and x so (w[0], x[0]) ...\n",
    "        out = act.tanh()\n",
    "        return out\n",
    "\n",
    "    def parameters (self):\n",
    "        return self.w + [self.b]\n",
    "\n",
    "class Layer:\n",
    "    def __init__ (self, numInputs, numNeurons): #numInputs is num of inputs to each neuron\n",
    "        self.neurons = [Neuron(numInputs) for _ in range (numNeurons)]\n",
    "    \n",
    "    def __call__ (self, input):\n",
    "        outs = [neuron(input) for neuron in self.neurons]\n",
    "        return outs[0] if len(outs) == 1 else outs\n",
    "    \n",
    "    def parameters (self):\n",
    "        params = []\n",
    "        for neuron in self.neurons:\n",
    "            ps = neuron.parameters()\n",
    "            params.extend(ps)\n",
    "        return params\n",
    "\n",
    "class MLP:\n",
    "    def __init__(self, numInputs, numNeuronsArr):\n",
    "        size = [numInputs] + numNeuronsArr #[numInputs, n1, n2, ... , nn]\n",
    "        self.layers = [Layer(size[i], size[i+1]) for i in range (len(numNeuronsArr))] \n",
    "    \n",
    "    def __call__(self, input):\n",
    "        for layer in self.layers:\n",
    "            input = layer(input)\n",
    "        return input\n",
    "    \n",
    "    def parameters (self):\n",
    "        params = []\n",
    "        for layer in self.layers:\n",
    "            ps = layer.parameters()\n",
    "            params.extend(ps)\n",
    "        return params"
   ]
  },
  {
   "cell_type": "code",
   "execution_count": 64,
   "id": "1c7b32cd",
   "metadata": {},
   "outputs": [
    {
     "data": {
      "text/plain": [
       "Value(data=-0.943948480493991)"
      ]
     },
     "execution_count": 64,
     "metadata": {},
     "output_type": "execute_result"
    }
   ],
   "source": [
    "x = [2.0, 3.0, -1.0]\n",
    "# MLP: 3 inputs → 4 neurons → 4 neurons → 1 output\n",
    "n = MLP(3, [4, 4, 1])\n",
    "n(x)"
   ]
  },
  {
   "cell_type": "code",
   "execution_count": 65,
   "id": "525c47a8",
   "metadata": {},
   "outputs": [],
   "source": [
    "xs = [\n",
    "    [2.0, 3.0, -1.0],\n",
    "    [3.0, -1.0, 0.5],\n",
    "    [0.5, 1.0, 1.0],\n",
    "    [1.0, 1.0, -1.0],\n",
    "]\n",
    "\n",
    "ys = [1.0, -1.0, -1.0, 1.0]  # targets\n",
    "\n",
    "# Run predictions\n",
    "ypred = [n(x) for x in xs]"
   ]
  },
  {
   "cell_type": "code",
   "execution_count": 66,
   "id": "6e8807fc",
   "metadata": {},
   "outputs": [
    {
     "name": "stdout",
     "output_type": "stream",
     "text": [
      "0 7.498438275255379\n",
      "1 6.681081232828469\n",
      "2 5.7656185480199795\n",
      "3 3.6348311871699055\n",
      "4 2.9909643658343987\n",
      "5 2.652216849965963\n",
      "6 2.3139698791700694\n",
      "7 1.8938204333046698\n",
      "8 1.4736331161271492\n",
      "9 1.1209701385313449\n",
      "10 0.8502439786453476\n",
      "11 0.6523408335826156\n",
      "12 0.5102599532719184\n",
      "13 0.4078179914243315\n",
      "14 0.3327542144536048\n",
      "15 0.27660907558111814\n",
      "16 0.23372281809179968\n",
      "17 0.20031197299500772\n",
      "18 0.17381448162218666\n",
      "19 0.1524629152708967\n"
     ]
    }
   ],
   "source": [
    "for k in range (20):\n",
    "    # Foward pass: Run predictions\n",
    "    ypred = [n(x) for x in xs]\n",
    "    loss = sum([(yPred - yVal)**2 for yVal, yPred in zip (ys, ypred)])  #Loss function: Squared error\n",
    "\n",
    "    #Backward pass\n",
    "    for p in n.parameters():\n",
    "        p.grad = 0.0 #Reset all parameter gradients to 0\n",
    "    loss.backward()\n",
    "\n",
    "    #Update\n",
    "    for p in n.parameters():\n",
    "        p.data += -0.05 * p.grad\n",
    "    \n",
    "    print(k, loss.data)"
   ]
  },
  {
   "cell_type": "code",
   "execution_count": 67,
   "id": "647dd551",
   "metadata": {},
   "outputs": [
    {
     "data": {
      "text/plain": [
       "[Value(data=0.8384771117431458),\n",
       " Value(data=-0.738421044948126),\n",
       " Value(data=-0.9101728113175854),\n",
       " Value(data=0.7766599044339686)]"
      ]
     },
     "execution_count": 67,
     "metadata": {},
     "output_type": "execute_result"
    }
   ],
   "source": [
    "ypred"
   ]
  }
 ],
 "metadata": {
  "kernelspec": {
   "display_name": "base",
   "language": "python",
   "name": "python3"
  },
  "language_info": {
   "codemirror_mode": {
    "name": "ipython",
    "version": 3
   },
   "file_extension": ".py",
   "mimetype": "text/x-python",
   "name": "python",
   "nbconvert_exporter": "python",
   "pygments_lexer": "ipython3",
   "version": "3.12.4"
  }
 },
 "nbformat": 4,
 "nbformat_minor": 5
}
